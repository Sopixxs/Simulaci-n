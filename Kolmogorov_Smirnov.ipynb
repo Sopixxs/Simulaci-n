{
  "nbformat": 4,
  "nbformat_minor": 0,
  "metadata": {
    "colab": {
      "provenance": [],
      "authorship_tag": "ABX9TyPDJPqIGSP3kvplFkYHOZXN",
      "include_colab_link": true
    },
    "kernelspec": {
      "name": "python3",
      "display_name": "Python 3"
    },
    "language_info": {
      "name": "python"
    }
  },
  "cells": [
    {
      "cell_type": "markdown",
      "metadata": {
        "id": "view-in-github",
        "colab_type": "text"
      },
      "source": [
        "<a href=\"https://colab.research.google.com/github/Sopixxs/Simulaci-n/blob/main/Kolmogorov_Smirnov.ipynb\" target=\"_parent\"><img src=\"https://colab.research.google.com/assets/colab-badge.svg\" alt=\"Open In Colab\"/></a>"
      ]
    },
    {
      "cell_type": "code",
      "source": [
        "import numpy as np\n",
        "import scipy.stats as stats"
      ],
      "metadata": {
        "id": "LS83sh3oqjBH"
      },
      "execution_count": 1,
      "outputs": []
    },
    {
      "cell_type": "code",
      "source": [
        "# Genera 100 números aleatorios en el intervalo de 0,1\n",
        "\n",
        "numeros_aleatorios = np.random.uniform(0, 1, 100)\n"
      ],
      "metadata": {
        "id": "5FF0yPIDqjUH"
      },
      "execution_count": 2,
      "outputs": []
    },
    {
      "cell_type": "code",
      "source": [
        "# Realiza la prueba de Kolmogorov-Smirnov\n",
        "\n",
        "ks_statistic, p_value = stats.kstest(numeros_aleatorios, 'uniform')\n"
      ],
      "metadata": {
        "id": "zqvQLtQGqjiv"
      },
      "execution_count": 3,
      "outputs": []
    },
    {
      "cell_type": "code",
      "source": [
        "# Imprime los resultados\n",
        "\n",
        "print(f\"Estadístico de Kolmogorov-Smirnov: {ks_statistic:.5f}\")\n",
        "print(f\"Valor p: {p_value:.5f}\")"
      ],
      "metadata": {
        "colab": {
          "base_uri": "https://localhost:8080/"
        },
        "id": "qD6Ofcklqjxi",
        "outputId": "e719b18e-fb07-4346-9d85-d57b69b1f468"
      },
      "execution_count": 4,
      "outputs": [
        {
          "output_type": "stream",
          "name": "stdout",
          "text": [
            "Estadístico de Kolmogorov-Smirnov: 0.07776\n",
            "Valor p: 0.55459\n"
          ]
        }
      ]
    },
    {
      "cell_type": "code",
      "source": [
        "# Interpreta los resultados obtenidos\n",
        "\n",
        "alpha = 0.05  # Significancia del 5%\n",
        "if p_value > alpha:\n",
        "    print(\"No se rechaza la hipótesis nula: Los datos siguen una distribución uniforme.\")\n",
        "else:\n",
        "    print(\"Se rechaza la hipótesis nula: Los datos no siguen una distribución uniforme.\")\n"
      ],
      "metadata": {
        "colab": {
          "base_uri": "https://localhost:8080/"
        },
        "id": "auLdugZJqkHj",
        "outputId": "fb126f66-9530-4eef-a63d-cea5d8b42a22"
      },
      "execution_count": 5,
      "outputs": [
        {
          "output_type": "stream",
          "name": "stdout",
          "text": [
            "No se rechaza la hipótesis nula: Los datos siguen una distribución uniforme.\n"
          ]
        }
      ]
    }
  ]
}