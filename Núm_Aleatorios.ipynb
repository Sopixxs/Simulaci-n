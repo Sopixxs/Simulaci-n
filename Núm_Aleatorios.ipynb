{
  "nbformat": 4,
  "nbformat_minor": 0,
  "metadata": {
    "colab": {
      "provenance": []
    },
    "kernelspec": {
      "name": "python3",
      "display_name": "Python 3"
    },
    "language_info": {
      "name": "python"
    }
  },
  "cells": [
    {
      "cell_type": "code",
      "execution_count": null,
      "metadata": {
        "id": "-7TuFn-MeP3X"
      },
      "outputs": [],
      "source": [
        "import random\n",
        "\n",
        "# Función para los núm. aleatorios con el método de centros al cuadrado\n",
        "def centros_al_cuadrado(seed, cantidad):\n",
        "    numeros = []\n",
        "    for _ in range(cantidad):\n",
        "        seed = (seed * seed) % 10000\n",
        "        numeros.append(seed)\n",
        "    return numeros"
      ]
    },
    {
      "cell_type": "code",
      "source": [
        "# Función para los núm. aleatorios con el método de medios cuadrados\n",
        "def medios_cuadrados(seed, cantidad):\n",
        "    numeros = []\n",
        "    for _ in range(cantidad):\n",
        "        cuadrado = (seed * seed) % 10000\n",
        "        seed = (cuadrado // 100) % 100\n",
        "        numeros.append(seed)\n",
        "    return numeros"
      ],
      "metadata": {
        "id": "Xnhws2tFf_c1"
      },
      "execution_count": null,
      "outputs": []
    },
    {
      "cell_type": "code",
      "source": [
        "# Semilla inicial\n",
        "seed_centros = random.randint(1, 99)  # Semilla aleatoria para centros al cuadrado\n",
        "seed_medios = random.randint(1, 99)   # Semilla aleatoria para medios cuadrados"
      ],
      "metadata": {
        "id": "tYykV17ef_b9"
      },
      "execution_count": null,
      "outputs": []
    },
    {
      "cell_type": "code",
      "source": [
        "# Genera los 100 núm. aleatorios por ambos métodos\n",
        "números_centros = centros_al_cuadrado(seed_centros, 100)\n",
        "números_medios = medios_cuadrados(seed_medios, 100)"
      ],
      "metadata": {
        "id": "Tsz5X3Qdf_a9"
      },
      "execution_count": null,
      "outputs": []
    },
    {
      "cell_type": "code",
      "source": [
        "# Da los resultados\n",
        "print(\"100 Números aleatorios generados por el método de centros al cuadrado:\")\n",
        "print(números_centros)\n",
        "print(\"\\n100 Números aleatorios generados por el método de medios cuadrados:\")\n",
        "print(números_medios)"
      ],
      "metadata": {
        "id": "D3GTHmeWgIu8"
      },
      "execution_count": null,
      "outputs": []
    }
  ]
}